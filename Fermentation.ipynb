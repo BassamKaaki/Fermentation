{
 "cells": [
  {
   "cell_type": "code",
   "execution_count": 1,
   "metadata": {},
   "outputs": [],
   "source": [
    "#Class Creation\n",
    "class salt_ferment:\n",
    "    def __init__(self, food_grams, water_grams, constant):\n",
    "        self.food_grams = food_grams     #grams of rice (3 cups)\n",
    "        self.water_grams = water_grams   #grams of water\n",
    "        self.constant = constant         #constant \n",
    "                \n",
    "    def salt_concentrate(self, food_grams, water_grams, constant): \n",
    "        self.salt_concentrate = (food_grams + water_grams) * constant\n",
    "        \n",
    "    def print_outcome(self):\n",
    "        return self.salt_concentrate"
   ]
  },
  {
   "cell_type": "code",
   "execution_count": 2,
   "metadata": {},
   "outputs": [],
   "source": [
    "#Instance creations for the class\n",
    "food_grams = 384\n",
    "water_grams = 1500\n",
    "constant = 0.025"
   ]
  },
  {
   "cell_type": "code",
   "execution_count": 3,
   "metadata": {},
   "outputs": [],
   "source": [
    "#Calling the class\n",
    "salt_amount = salt_ferment(food_grams, water_grams, constant)"
   ]
  },
  {
   "cell_type": "code",
   "execution_count": 4,
   "metadata": {},
   "outputs": [],
   "source": [
    "#Generating the instances to be used and class’s methods automatically receive \n",
    "#the instance being processed by a given method call (in the self argument):\n",
    "salt_amount.salt_concentrate(food_grams, water_grams, constant)"
   ]
  },
  {
   "cell_type": "code",
   "execution_count": 5,
   "metadata": {},
   "outputs": [
    {
     "name": "stdout",
     "output_type": "stream",
     "text": [
      "Amount of Salt Needed is:  47.1 grams\n"
     ]
    }
   ],
   "source": [
    "#Prints amount of salt needed for the fermentation proces\n",
    "amount_salt = print(\"Amount of Salt Needed is: \", salt_amount.print_outcome(), \"grams\")\n",
    "amount_salt"
   ]
  },
  {
   "cell_type": "code",
   "execution_count": null,
   "metadata": {},
   "outputs": [],
   "source": []
  }
 ],
 "metadata": {
  "kernelspec": {
   "display_name": "Python 3",
   "language": "python",
   "name": "python3"
  },
  "language_info": {
   "codemirror_mode": {
    "name": "ipython",
    "version": 3
   },
   "file_extension": ".py",
   "mimetype": "text/x-python",
   "name": "python",
   "nbconvert_exporter": "python",
   "pygments_lexer": "ipython3",
   "version": "3.7.4"
  }
 },
 "nbformat": 4,
 "nbformat_minor": 2
}
